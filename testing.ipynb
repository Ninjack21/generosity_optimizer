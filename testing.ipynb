{
 "cells": [
  {
   "cell_type": "code",
   "execution_count": 1,
   "metadata": {},
   "outputs": [],
   "source": [
    "%reload_ext autoreload\n",
    "%autoreload 2"
   ]
  },
  {
   "cell_type": "code",
   "execution_count": 49,
   "metadata": {},
   "outputs": [],
   "source": [
    "from classes import *"
   ]
  },
  {
   "cell_type": "code",
   "execution_count": 50,
   "metadata": {},
   "outputs": [],
   "source": [
    "salary = Salary(100000)"
   ]
  },
  {
   "cell_type": "code",
   "execution_count": 51,
   "metadata": {},
   "outputs": [],
   "source": [
    "spendstrat = SpendingStrategy(\n",
    "    base_spending=0.6,\n",
    "    retirement_saving=0.15,\n",
    "    disp_spend=0.15,\n",
    "    disp_give=0.1\n",
    ")"
   ]
  },
  {
   "cell_type": "code",
   "execution_count": 70,
   "metadata": {},
   "outputs": [],
   "source": [
    "genstrat = GenerosityStrategy(\n",
    "    straight_percent=0.5,\n",
    "    investment_draw_down_rate=0.04,\n",
    "    legacy_give_percent=0.2\n",
    ")"
   ]
  },
  {
   "cell_type": "code",
   "execution_count": 71,
   "metadata": {},
   "outputs": [
    {
     "data": {
      "text/html": [
       "<div>\n",
       "<style scoped>\n",
       "    .dataframe tbody tr th:only-of-type {\n",
       "        vertical-align: middle;\n",
       "    }\n",
       "\n",
       "    .dataframe tbody tr th {\n",
       "        vertical-align: top;\n",
       "    }\n",
       "\n",
       "    .dataframe thead th {\n",
       "        text-align: right;\n",
       "    }\n",
       "</style>\n",
       "<table border=\"1\" class=\"dataframe\">\n",
       "  <thead>\n",
       "    <tr style=\"text-align: right;\">\n",
       "      <th></th>\n",
       "      <th>Salary</th>\n",
       "      <th>Total Income</th>\n",
       "      <th>Retirement Savings</th>\n",
       "      <th>Giving Savings</th>\n",
       "      <th>Asset Savings</th>\n",
       "      <th>years_from_start</th>\n",
       "      <th>Total Giving</th>\n",
       "    </tr>\n",
       "  </thead>\n",
       "  <tbody>\n",
       "    <tr>\n",
       "      <th>0</th>\n",
       "      <td>100000</td>\n",
       "      <td>100000</td>\n",
       "      <td>39396</td>\n",
       "      <td>4150</td>\n",
       "      <td>0</td>\n",
       "      <td>0</td>\n",
       "      <td>0</td>\n",
       "    </tr>\n",
       "  </tbody>\n",
       "</table>\n",
       "</div>"
      ],
      "text/plain": [
       "   Salary  Total Income  Retirement Savings  Giving Savings  Asset Savings  \\\n",
       "0  100000        100000               39396            4150              0   \n",
       "\n",
       "   years_from_start  Total Giving  \n",
       "0                 0             0  "
      ]
     },
     "execution_count": 71,
     "metadata": {},
     "output_type": "execute_result"
    }
   ],
   "source": [
    "pm = PortfolioManager(\n",
    "    spendstrat=spendstrat,\n",
    "    genstrat=genstrat,\n",
    "    salary=salary,\n",
    ")\n",
    "\n",
    "pm.init_retirement_savings(9450+2241+27705) # 12/23/23\n",
    "pm.init_giving_savings(4150)# 12/23/23\n",
    "pm.df"
   ]
  },
  {
   "cell_type": "code",
   "execution_count": 72,
   "metadata": {},
   "outputs": [
    {
     "ename": "TypeError",
     "evalue": "Asset.__init__() missing 1 required positional argument: 'years_from_start'",
     "output_type": "error",
     "traceback": [
      "\u001b[0;31m---------------------------------------------------------------------------\u001b[0m",
      "\u001b[0;31mTypeError\u001b[0m                                 Traceback (most recent call last)",
      "Cell \u001b[0;32mIn[72], line 3\u001b[0m\n\u001b[1;32m      1\u001b[0m \u001b[38;5;28;01mfor\u001b[39;00m i \u001b[38;5;129;01min\u001b[39;00m \u001b[38;5;28mrange\u001b[39m(\u001b[38;5;241m12\u001b[39m \u001b[38;5;241m*\u001b[39m \u001b[38;5;241m40\u001b[39m):\n\u001b[1;32m      2\u001b[0m     years_from_start \u001b[38;5;241m=\u001b[39m (i) \u001b[38;5;241m/\u001b[39m \u001b[38;5;241m12\u001b[39m\n\u001b[0;32m----> 3\u001b[0m     \u001b[43mpm\u001b[49m\u001b[38;5;241;43m.\u001b[39;49m\u001b[43msimulate_month\u001b[49m\u001b[43m(\u001b[49m\u001b[43myears_from_start\u001b[49m\u001b[43m)\u001b[49m\n",
      "File \u001b[0;32m~/Documents/Repositories/generosity_optimizer/classes.py:167\u001b[0m, in \u001b[0;36mPortfolioManager.simulate_month\u001b[0;34m(self, years_from_start)\u001b[0m\n\u001b[1;32m    165\u001b[0m income \u001b[38;5;241m=\u001b[39m \u001b[38;5;28mself\u001b[39m\u001b[38;5;241m.\u001b[39m_get_paid(years_from_start)\n\u001b[1;32m    166\u001b[0m \u001b[38;5;66;03m# manage income\u001b[39;00m\n\u001b[0;32m--> 167\u001b[0m \u001b[38;5;28;43mself\u001b[39;49m\u001b[38;5;241;43m.\u001b[39;49m\u001b[43m_manage_income\u001b[49m\u001b[43m(\u001b[49m\u001b[43mincome\u001b[49m\u001b[43m,\u001b[49m\u001b[43m \u001b[49m\u001b[43myears_from_start\u001b[49m\u001b[43m)\u001b[49m\n\u001b[1;32m    168\u001b[0m \u001b[38;5;66;03m# grow investments\u001b[39;00m\n\u001b[1;32m    170\u001b[0m \u001b[38;5;28mself\u001b[39m\u001b[38;5;241m.\u001b[39m_grow_investments_and_assets(years_from_start, current_month)\n",
      "File \u001b[0;32m~/Documents/Repositories/generosity_optimizer/classes.py:118\u001b[0m, in \u001b[0;36mPortfolioManager._manage_income\u001b[0;34m(self, income, years_from_start)\u001b[0m\n\u001b[1;32m    115\u001b[0m     \u001b[38;5;28mself\u001b[39m\u001b[38;5;241m.\u001b[39masset_savings\u001b[38;5;241m.\u001b[39madd(disp_invest, years_from_start)\n\u001b[1;32m    117\u001b[0m \u001b[38;5;28;01melse\u001b[39;00m:\n\u001b[0;32m--> 118\u001b[0m     \u001b[38;5;28;43mself\u001b[39;49m\u001b[38;5;241;43m.\u001b[39;49m\u001b[43m_purchase_assets\u001b[49m\u001b[43m(\u001b[49m\u001b[43mn_assets\u001b[49m\u001b[43m,\u001b[49m\u001b[43m \u001b[49m\u001b[43masset_price\u001b[49m\u001b[43m)\u001b[49m\n",
      "File \u001b[0;32m~/Documents/Repositories/generosity_optimizer/classes.py:125\u001b[0m, in \u001b[0;36mPortfolioManager._purchase_assets\u001b[0;34m(self, n_assets, asset_price)\u001b[0m\n\u001b[1;32m    123\u001b[0m new_asset_name \u001b[38;5;241m=\u001b[39m \u001b[38;5;124mf\u001b[39m\u001b[38;5;124m\"\u001b[39m\u001b[38;5;124mAsset \u001b[39m\u001b[38;5;132;01m{\u001b[39;00mcurrent_assets\u001b[38;5;241m+\u001b[39mi\u001b[38;5;132;01m}\u001b[39;00m\u001b[38;5;124m+1\u001b[39m\u001b[38;5;124m\"\u001b[39m\n\u001b[1;32m    124\u001b[0m \u001b[38;5;66;03m# 3.8% = avg appreciation US / year, 1% of total value is average rent\u001b[39;00m\n\u001b[0;32m--> 125\u001b[0m new_asset \u001b[38;5;241m=\u001b[39m \u001b[43mAsset\u001b[49m\u001b[43m(\u001b[49m\n\u001b[1;32m    126\u001b[0m \u001b[43m    \u001b[49m\u001b[43mname\u001b[49m\u001b[38;5;241;43m=\u001b[39;49m\u001b[43mnew_asset_name\u001b[49m\u001b[43m,\u001b[49m\n\u001b[1;32m    127\u001b[0m \u001b[43m    \u001b[49m\u001b[43mvalue\u001b[49m\u001b[38;5;241;43m=\u001b[39;49m\u001b[43masset_price\u001b[49m\u001b[43m,\u001b[49m\n\u001b[1;32m    128\u001b[0m \u001b[43m    \u001b[49m\u001b[43mgrowth_rate\u001b[49m\u001b[38;5;241;43m=\u001b[39;49m\u001b[38;5;241;43m0.036\u001b[39;49m\u001b[43m,\u001b[49m\n\u001b[1;32m    129\u001b[0m \u001b[43m    \u001b[49m\u001b[43mdividend_rate\u001b[49m\u001b[38;5;241;43m=\u001b[39;49m\u001b[38;5;241;43m0.01\u001b[39;49m\u001b[43m,\u001b[49m\n\u001b[1;32m    130\u001b[0m \u001b[43m\u001b[49m\u001b[43m)\u001b[49m\n\u001b[1;32m    131\u001b[0m \u001b[38;5;28mself\u001b[39m\u001b[38;5;241m.\u001b[39massets\u001b[38;5;241m.\u001b[39mappend(new_asset)\n\u001b[1;32m    132\u001b[0m \u001b[38;5;28;01mraise\u001b[39;00m \u001b[38;5;167;01mValueError\u001b[39;00m(\u001b[38;5;124m\"\u001b[39m\u001b[38;5;124mNeed to remove from investments still\u001b[39m\u001b[38;5;124m\"\u001b[39m)\n",
      "\u001b[0;31mTypeError\u001b[0m: Asset.__init__() missing 1 required positional argument: 'years_from_start'"
     ]
    }
   ],
   "source": [
    "for i in range(12 * 40):\n",
    "    years_from_start = (i) / 12\n",
    "    pm.simulate_month(years_from_start)"
   ]
  },
  {
   "cell_type": "code",
   "execution_count": 68,
   "metadata": {},
   "outputs": [
    {
     "data": {
      "text/html": [
       "<div>\n",
       "<style scoped>\n",
       "    .dataframe tbody tr th:only-of-type {\n",
       "        vertical-align: middle;\n",
       "    }\n",
       "\n",
       "    .dataframe tbody tr th {\n",
       "        vertical-align: top;\n",
       "    }\n",
       "\n",
       "    .dataframe thead th {\n",
       "        text-align: right;\n",
       "    }\n",
       "</style>\n",
       "<table border=\"1\" class=\"dataframe\">\n",
       "  <thead>\n",
       "    <tr style=\"text-align: right;\">\n",
       "      <th></th>\n",
       "      <th>Salary</th>\n",
       "      <th>Total Income</th>\n",
       "      <th>Retirement Savings</th>\n",
       "      <th>Giving Savings</th>\n",
       "      <th>Asset Savings</th>\n",
       "      <th>years_from_start</th>\n",
       "      <th>Total Giving</th>\n",
       "    </tr>\n",
       "  </thead>\n",
       "  <tbody>\n",
       "    <tr>\n",
       "      <th>0</th>\n",
       "      <td>100000</td>\n",
       "      <td>100000.00</td>\n",
       "      <td>39396.000000</td>\n",
       "      <td>4150.000000</td>\n",
       "      <td>0.000000</td>\n",
       "      <td>0.000000</td>\n",
       "      <td>0.000000</td>\n",
       "    </tr>\n",
       "    <tr>\n",
       "      <th>1</th>\n",
       "      <td>100000</td>\n",
       "      <td>99999.96</td>\n",
       "      <td>57722.108788</td>\n",
       "      <td>5562.211503</td>\n",
       "      <td>17966.457013</td>\n",
       "      <td>0.916667</td>\n",
       "      <td>1329.478429</td>\n",
       "    </tr>\n",
       "    <tr>\n",
       "      <th>2</th>\n",
       "      <td>100000</td>\n",
       "      <td>96999.99</td>\n",
       "      <td>77887.035393</td>\n",
       "      <td>7051.854557</td>\n",
       "      <td>37735.644853</td>\n",
       "      <td>1.916667</td>\n",
       "      <td>2716.853240</td>\n",
       "    </tr>\n",
       "  </tbody>\n",
       "</table>\n",
       "</div>"
      ],
      "text/plain": [
       "   Salary  Total Income  Retirement Savings  Giving Savings  Asset Savings  \\\n",
       "0  100000     100000.00        39396.000000     4150.000000       0.000000   \n",
       "1  100000      99999.96        57722.108788     5562.211503   17966.457013   \n",
       "2  100000      96999.99        77887.035393     7051.854557   37735.644853   \n",
       "\n",
       "   years_from_start  Total Giving  \n",
       "0          0.000000      0.000000  \n",
       "1          0.916667   1329.478429  \n",
       "2          1.916667   2716.853240  "
      ]
     },
     "execution_count": 68,
     "metadata": {},
     "output_type": "execute_result"
    }
   ],
   "source": [
    "pm.df"
   ]
  },
  {
   "cell_type": "code",
   "execution_count": null,
   "metadata": {},
   "outputs": [],
   "source": []
  }
 ],
 "metadata": {
  "kernelspec": {
   "display_name": "Python 3",
   "language": "python",
   "name": "python3"
  },
  "language_info": {
   "codemirror_mode": {
    "name": "ipython",
    "version": 3
   },
   "file_extension": ".py",
   "mimetype": "text/x-python",
   "name": "python",
   "nbconvert_exporter": "python",
   "pygments_lexer": "ipython3",
   "version": "3.12.1"
  }
 },
 "nbformat": 4,
 "nbformat_minor": 2
}
