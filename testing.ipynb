{
 "cells": [
  {
   "cell_type": "code",
   "execution_count": 1,
   "metadata": {},
   "outputs": [],
   "source": [
    "%reload_ext autoreload\n",
    "%autoreload 2"
   ]
  },
  {
   "cell_type": "code",
   "execution_count": 108,
   "metadata": {},
   "outputs": [],
   "source": [
    "from classes import *"
   ]
  },
  {
   "cell_type": "code",
   "execution_count": 109,
   "metadata": {},
   "outputs": [],
   "source": [
    "salary = Salary(100000)"
   ]
  },
  {
   "cell_type": "code",
   "execution_count": 110,
   "metadata": {},
   "outputs": [],
   "source": [
    "spendstrat = SpendingStrategy(\n",
    "    base_spending=0.5,\n",
    "    retirement_saving=0.15,\n",
    "    disp_spend=0.15,\n",
    "    disp_give=0.1\n",
    ")"
   ]
  },
  {
   "cell_type": "code",
   "execution_count": 111,
   "metadata": {},
   "outputs": [],
   "source": [
    "genstrat = GenerosityStrategy(\n",
    "    straight_percent=0.5,\n",
    "    investment_draw_down_rate=0.04,\n",
    "    legacy_give_percent=0.2\n",
    ")"
   ]
  },
  {
   "cell_type": "code",
   "execution_count": 112,
   "metadata": {},
   "outputs": [
    {
     "data": {
      "text/html": [
       "<div>\n",
       "<style scoped>\n",
       "    .dataframe tbody tr th:only-of-type {\n",
       "        vertical-align: middle;\n",
       "    }\n",
       "\n",
       "    .dataframe tbody tr th {\n",
       "        vertical-align: top;\n",
       "    }\n",
       "\n",
       "    .dataframe thead th {\n",
       "        text-align: right;\n",
       "    }\n",
       "</style>\n",
       "<table border=\"1\" class=\"dataframe\">\n",
       "  <thead>\n",
       "    <tr style=\"text-align: right;\">\n",
       "      <th></th>\n",
       "      <th>Salary</th>\n",
       "      <th>Total Income</th>\n",
       "      <th>Retirement Savings</th>\n",
       "      <th>Giving Savings</th>\n",
       "      <th>Asset Savings</th>\n",
       "      <th>years_from_start</th>\n",
       "      <th>Total Giving</th>\n",
       "    </tr>\n",
       "  </thead>\n",
       "  <tbody>\n",
       "    <tr>\n",
       "      <th>0</th>\n",
       "      <td>100000</td>\n",
       "      <td>100000</td>\n",
       "      <td>39396</td>\n",
       "      <td>4150</td>\n",
       "      <td>0</td>\n",
       "      <td>0</td>\n",
       "      <td>0</td>\n",
       "    </tr>\n",
       "  </tbody>\n",
       "</table>\n",
       "</div>"
      ],
      "text/plain": [
       "   Salary  Total Income  Retirement Savings  Giving Savings  Asset Savings  \\\n",
       "0  100000        100000               39396            4150              0   \n",
       "\n",
       "   years_from_start  Total Giving  \n",
       "0                 0             0  "
      ]
     },
     "execution_count": 112,
     "metadata": {},
     "output_type": "execute_result"
    }
   ],
   "source": [
    "pm = PortfolioManager(\n",
    "    spendstrat=spendstrat,\n",
    "    genstrat=genstrat,\n",
    "    salary=salary,\n",
    ")\n",
    "\n",
    "pm.init_retirement_savings(9450+2241+27705) # 12/23/23\n",
    "pm.init_giving_savings(4150)# 12/23/23\n",
    "pm.df"
   ]
  },
  {
   "cell_type": "code",
   "execution_count": 113,
   "metadata": {},
   "outputs": [],
   "source": [
    "for i in range(12 * 3):\n",
    "    years_from_start = (i) / 12\n",
    "    pm.simulate_month(years_from_start)\n",
    "pm.df"
   ]
  },
  {
   "cell_type": "code",
   "execution_count": 107,
   "metadata": {},
   "outputs": [
    {
     "data": {
      "text/html": [
       "<div>\n",
       "<style scoped>\n",
       "    .dataframe tbody tr th:only-of-type {\n",
       "        vertical-align: middle;\n",
       "    }\n",
       "\n",
       "    .dataframe tbody tr th {\n",
       "        vertical-align: top;\n",
       "    }\n",
       "\n",
       "    .dataframe thead th {\n",
       "        text-align: right;\n",
       "    }\n",
       "</style>\n",
       "<table border=\"1\" class=\"dataframe\">\n",
       "  <thead>\n",
       "    <tr style=\"text-align: right;\">\n",
       "      <th></th>\n",
       "      <th>Salary</th>\n",
       "      <th>Total Income</th>\n",
       "      <th>Retirement Savings</th>\n",
       "      <th>Giving Savings</th>\n",
       "      <th>Asset Savings</th>\n",
       "      <th>years_from_start</th>\n",
       "      <th>Total Giving</th>\n",
       "    </tr>\n",
       "  </thead>\n",
       "  <tbody>\n",
       "    <tr>\n",
       "      <th>0</th>\n",
       "      <td>100000.0</td>\n",
       "      <td>100000.00</td>\n",
       "      <td>39396.00</td>\n",
       "      <td>4150.00</td>\n",
       "      <td>0.00</td>\n",
       "      <td>0.00</td>\n",
       "      <td>0.00</td>\n",
       "    </tr>\n",
       "    <tr>\n",
       "      <th>1</th>\n",
       "      <td>100000.0</td>\n",
       "      <td>103503.96</td>\n",
       "      <td>57722.11</td>\n",
       "      <td>6032.72</td>\n",
       "      <td>25153.04</td>\n",
       "      <td>0.92</td>\n",
       "      <td>1793.15</td>\n",
       "    </tr>\n",
       "    <tr>\n",
       "      <th>2</th>\n",
       "      <td>105000.0</td>\n",
       "      <td>82254.00</td>\n",
       "      <td>78582.39</td>\n",
       "      <td>8099.11</td>\n",
       "      <td>54046.77</td>\n",
       "      <td>1.92</td>\n",
       "      <td>3741.95</td>\n",
       "    </tr>\n",
       "  </tbody>\n",
       "</table>\n",
       "</div>"
      ],
      "text/plain": [
       "     Salary  Total Income  Retirement Savings  Giving Savings  Asset Savings  \\\n",
       "0  100000.0     100000.00            39396.00         4150.00           0.00   \n",
       "1  100000.0     103503.96            57722.11         6032.72       25153.04   \n",
       "2  105000.0      82254.00            78582.39         8099.11       54046.77   \n",
       "\n",
       "   years_from_start  Total Giving  \n",
       "0              0.00          0.00  \n",
       "1              0.92       1793.15  \n",
       "2              1.92       3741.95  "
      ]
     },
     "execution_count": 107,
     "metadata": {},
     "output_type": "execute_result"
    }
   ],
   "source": [
    "pm.df"
   ]
  },
  {
   "cell_type": "code",
   "execution_count": null,
   "metadata": {},
   "outputs": [],
   "source": []
  }
 ],
 "metadata": {
  "kernelspec": {
   "display_name": "Python 3",
   "language": "python",
   "name": "python3"
  },
  "language_info": {
   "codemirror_mode": {
    "name": "ipython",
    "version": 3
   },
   "file_extension": ".py",
   "mimetype": "text/x-python",
   "name": "python",
   "nbconvert_exporter": "python",
   "pygments_lexer": "ipython3",
   "version": "3.12.1"
  }
 },
 "nbformat": 4,
 "nbformat_minor": 2
}
