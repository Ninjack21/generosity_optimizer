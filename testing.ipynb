{
 "cells": [
  {
   "cell_type": "code",
   "execution_count": 1,
   "metadata": {},
   "outputs": [],
   "source": [
    "%reload_ext autoreload\n",
    "%autoreload 2"
   ]
  },
  {
   "cell_type": "code",
   "execution_count": 2,
   "metadata": {},
   "outputs": [],
   "source": [
    "from classes import *"
   ]
  },
  {
   "cell_type": "code",
   "execution_count": 25,
   "metadata": {},
   "outputs": [],
   "source": [
    "salary = Salary(100000)"
   ]
  },
  {
   "cell_type": "code",
   "execution_count": 30,
   "metadata": {},
   "outputs": [],
   "source": [
    "spendstrat = SpendingStrategy(\n",
    "    base_spending=0.6,\n",
    "    retirement_saving=0.15,\n",
    "    disp_spend=0.15,\n",
    "    disp_give=0.1\n",
    ")"
   ]
  },
  {
   "cell_type": "code",
   "execution_count": 31,
   "metadata": {},
   "outputs": [],
   "source": [
    "genstrat = GenerosityStrategy(\n",
    "    straight_percent=0.5,\n",
    "    investment_draw_down_rate=0.04,\n",
    "    legacy_give_percent=0.2\n",
    ")"
   ]
  },
  {
   "cell_type": "code",
   "execution_count": 32,
   "metadata": {},
   "outputs": [
    {
     "data": {
      "text/html": [
       "<div>\n",
       "<style scoped>\n",
       "    .dataframe tbody tr th:only-of-type {\n",
       "        vertical-align: middle;\n",
       "    }\n",
       "\n",
       "    .dataframe tbody tr th {\n",
       "        vertical-align: top;\n",
       "    }\n",
       "\n",
       "    .dataframe thead th {\n",
       "        text-align: right;\n",
       "    }\n",
       "</style>\n",
       "<table border=\"1\" class=\"dataframe\">\n",
       "  <thead>\n",
       "    <tr style=\"text-align: right;\">\n",
       "      <th></th>\n",
       "      <th>Salary</th>\n",
       "      <th>Total Income</th>\n",
       "      <th>Retirement Savings</th>\n",
       "      <th>Giving Savings</th>\n",
       "      <th>Asset Savings</th>\n",
       "      <th>years_from_start</th>\n",
       "      <th>Total Giving</th>\n",
       "    </tr>\n",
       "  </thead>\n",
       "  <tbody>\n",
       "    <tr>\n",
       "      <th>0</th>\n",
       "      <td>100000</td>\n",
       "      <td>100000</td>\n",
       "      <td>39396</td>\n",
       "      <td>4150</td>\n",
       "      <td>0</td>\n",
       "      <td>0</td>\n",
       "      <td>0</td>\n",
       "    </tr>\n",
       "  </tbody>\n",
       "</table>\n",
       "</div>"
      ],
      "text/plain": [
       "   Salary  Total Income  Retirement Savings  Giving Savings  Asset Savings  \\\n",
       "0  100000        100000               39396            4150              0   \n",
       "\n",
       "   years_from_start  Total Giving  \n",
       "0                 0             0  "
      ]
     },
     "execution_count": 32,
     "metadata": {},
     "output_type": "execute_result"
    }
   ],
   "source": [
    "pm = PortfolioManager(\n",
    "    spendstrat=spendstrat,\n",
    "    genstrat=genstrat,\n",
    "    salary=salary,\n",
    ")\n",
    "\n",
    "pm.init_retirement_savings(9450+2241+27705) # 12/23/23\n",
    "pm.init_giving_savings(4150)# 12/23/23\n",
    "pm.df"
   ]
  },
  {
   "cell_type": "code",
   "execution_count": 34,
   "metadata": {},
   "outputs": [],
   "source": [
    "for i in range(11 * 1):\n",
    "    years_from_start = i+1 / 12\n",
    "    print(years_from_start)\n",
    "    pm.simulate_month(years_from_start)"
   ]
  },
  {
   "cell_type": "code",
   "execution_count": null,
   "metadata": {},
   "outputs": [],
   "source": []
  }
 ],
 "metadata": {
  "kernelspec": {
   "display_name": "Python 3",
   "language": "python",
   "name": "python3"
  },
  "language_info": {
   "codemirror_mode": {
    "name": "ipython",
    "version": 3
   },
   "file_extension": ".py",
   "mimetype": "text/x-python",
   "name": "python",
   "nbconvert_exporter": "python",
   "pygments_lexer": "ipython3",
   "version": "3.12.1"
  }
 },
 "nbformat": 4,
 "nbformat_minor": 2
}
